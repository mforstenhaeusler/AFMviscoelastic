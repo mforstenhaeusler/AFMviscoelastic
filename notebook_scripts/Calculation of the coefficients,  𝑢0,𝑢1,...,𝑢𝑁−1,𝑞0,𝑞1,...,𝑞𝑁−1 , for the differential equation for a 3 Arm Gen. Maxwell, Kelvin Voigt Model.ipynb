{
 "cells": [
  {
   "cell_type": "markdown",
   "metadata": {},
   "source": [
    "\n",
    "### Created on Tue Jul 7th 2020\n",
    "\n",
    "### @author: Maximilian Forstenhaeusler\n",
    "\n",
    "#  Calculation of the coefficients, $u_0, u_1, ..., u_{N-1}, q_0, q_1, ..., q_{N-1}$, for the differential equation* for a 3 Arm Gen. Maxwell, Kelvin Voigt Model\n",
    "<br><br>\n",
    "*equation 2 from _'Guidlines to implement simulation of linear viscoelastic behavioru in the contect of atomic force microscopy'_"
   ]
  },
  {
   "cell_type": "code",
   "execution_count": 1,
   "metadata": {},
   "outputs": [],
   "source": [
    "from sympy import *\n",
    "\n",
    "Jg, J1, J2, J3, Ge, G1, G2, G3, tau1, tau2, tau3, s = symbols('J_g J_1 J_2 J_3 G_e G_1 G_2 G_3 tau_1 tau_2 tau_3 s')\n",
    "U = Jg + J1/(1+tau1*s) + J2/(1+tau2*s) + J3/(1+tau3*s)\n",
    "Q = Ge + (G1*tau1)/(1+tau1*s) + (G2*tau2)/(1+tau2*s) + (G3*tau3)/(1+tau3*s)"
   ]
  },
  {
   "cell_type": "code",
   "execution_count": 2,
   "metadata": {},
   "outputs": [
    {
     "name": "stdout",
     "output_type": "stream",
     "text": [
      "U(s)=\n",
      "   J₁         J₂         J₃         \n",
      "──────── + ──────── + ──────── + J_g\n",
      "s⋅τ₁ + 1   s⋅τ₂ + 1   s⋅τ₃ + 1      \n",
      "\n",
      "Q(s)=\n",
      " G₁⋅τ₁      G₂⋅τ₂      G₃⋅τ₃       \n",
      "──────── + ──────── + ──────── + Gₑ\n",
      "s⋅τ₁ + 1   s⋅τ₂ + 1   s⋅τ₃ + 1     \n"
     ]
    }
   ],
   "source": [
    "print('U(s)=')\n",
    "pprint(U)\n",
    "print('\\nQ(s)=')\n",
    "pprint(Q)"
   ]
  },
  {
   "cell_type": "markdown",
   "metadata": {},
   "source": [
    "### Find diffential parameters for Retardance"
   ]
  },
  {
   "cell_type": "markdown",
   "metadata": {},
   "source": [
    "Material Transform for Retardance: $$ \\overline U(s) = \\frac{\\overline u(s)}{\\overline q(s)} $$"
   ]
  },
  {
   "cell_type": "markdown",
   "metadata": {},
   "source": [
    "Find the common denominator and expand each term:"
   ]
  },
  {
   "cell_type": "code",
   "execution_count": 3,
   "metadata": {},
   "outputs": [
    {
     "data": {
      "text/latex": [
       "$\\displaystyle \\frac{J_{1} s^{2} \\tau_{2} \\tau_{3} + J_{1} s \\tau_{2} + J_{1} s \\tau_{3} + J_{1} + J_{2} s^{2} \\tau_{1} \\tau_{3} + J_{2} s \\tau_{1} + J_{2} s \\tau_{3} + J_{2} + J_{3} s^{2} \\tau_{1} \\tau_{2} + J_{3} s \\tau_{1} + J_{3} s \\tau_{2} + J_{3} + J_{g} s^{3} \\tau_{1} \\tau_{2} \\tau_{3} + J_{g} s^{2} \\tau_{1} \\tau_{2} + J_{g} s^{2} \\tau_{1} \\tau_{3} + J_{g} s^{2} \\tau_{2} \\tau_{3} + J_{g} s \\tau_{1} + J_{g} s \\tau_{2} + J_{g} s \\tau_{3} + J_{g}}{\\left(s \\tau_{1} + 1\\right) \\left(s \\tau_{2} + 1\\right) \\left(s \\tau_{3} + 1\\right)}$"
      ],
      "text/plain": [
       "(J_1*s**2*tau_2*tau_3 + J_1*s*tau_2 + J_1*s*tau_3 + J_1 + J_2*s**2*tau_1*tau_3 + J_2*s*tau_1 + J_2*s*tau_3 + J_2 + J_3*s**2*tau_1*tau_2 + J_3*s*tau_1 + J_3*s*tau_2 + J_3 + J_g*s**3*tau_1*tau_2*tau_3 + J_g*s**2*tau_1*tau_2 + J_g*s**2*tau_1*tau_3 + J_g*s**2*tau_2*tau_3 + J_g*s*tau_1 + J_g*s*tau_2 + J_g*s*tau_3 + J_g)/((s*tau_1 + 1)*(s*tau_2 + 1)*(s*tau_3 + 1))"
      ]
     },
     "execution_count": 3,
     "metadata": {},
     "output_type": "execute_result"
    }
   ],
   "source": [
    "factor(U)"
   ]
  },
  {
   "cell_type": "markdown",
   "metadata": {},
   "source": [
    "Collect terms multiplied by same exponent of s:"
   ]
  },
  {
   "cell_type": "code",
   "execution_count": 4,
   "metadata": {},
   "outputs": [
    {
     "data": {
      "text/latex": [
       "$\\displaystyle \\frac{J_{1} + J_{2} + J_{3} + J_{g} s^{3} \\tau_{1} \\tau_{2} \\tau_{3} + J_{g} + s^{2} \\left(J_{1} \\tau_{2} \\tau_{3} + J_{2} \\tau_{1} \\tau_{3} + J_{3} \\tau_{1} \\tau_{2} + J_{g} \\tau_{1} \\tau_{2} + J_{g} \\tau_{1} \\tau_{3} + J_{g} \\tau_{2} \\tau_{3}\\right) + s \\left(J_{1} \\tau_{2} + J_{1} \\tau_{3} + J_{2} \\tau_{1} + J_{2} \\tau_{3} + J_{3} \\tau_{1} + J_{3} \\tau_{2} + J_{g} \\tau_{1} + J_{g} \\tau_{2} + J_{g} \\tau_{3}\\right)}{\\left(s \\tau_{1} + 1\\right) \\left(s \\tau_{2} + 1\\right) \\left(s \\tau_{3} + 1\\right)}$"
      ],
      "text/plain": [
       "(J_1 + J_2 + J_3 + J_g*s**3*tau_1*tau_2*tau_3 + J_g + s**2*(J_1*tau_2*tau_3 + J_2*tau_1*tau_3 + J_3*tau_1*tau_2 + J_g*tau_1*tau_2 + J_g*tau_1*tau_3 + J_g*tau_2*tau_3) + s*(J_1*tau_2 + J_1*tau_3 + J_2*tau_1 + J_2*tau_3 + J_3*tau_1 + J_3*tau_2 + J_g*tau_1 + J_g*tau_2 + J_g*tau_3))/((s*tau_1 + 1)*(s*tau_2 + 1)*(s*tau_3 + 1))"
      ]
     },
     "execution_count": 4,
     "metadata": {},
     "output_type": "execute_result"
    }
   ],
   "source": [
    "collected_U = collect(factor(U), s)\n",
    "collected_U"
   ]
  },
  {
   "cell_type": "markdown",
   "metadata": {},
   "source": [
    "Separate Numerator and Denominator:"
   ]
  },
  {
   "cell_type": "code",
   "execution_count": 5,
   "metadata": {},
   "outputs": [
    {
     "name": "stdout",
     "output_type": "stream",
     "text": [
      "Numerator:\n",
      "                    3                   2                                     \n",
      "J₁ + J₂ + J₃ + J_g⋅s ⋅τ₁⋅τ₂⋅τ₃ + J_g + s ⋅(J₁⋅τ₂⋅τ₃ + J₂⋅τ₁⋅τ₃ + J₃⋅τ₁⋅τ₂ + J_\n",
      "\n",
      "                                                                              \n",
      "g⋅τ₁⋅τ₂ + J_g⋅τ₁⋅τ₃ + J_g⋅τ₂⋅τ₃) + s⋅(J₁⋅τ₂ + J₁⋅τ₃ + J₂⋅τ₁ + J₂⋅τ₃ + J₃⋅τ₁ + \n",
      "\n",
      "                                 \n",
      "J₃⋅τ₂ + J_g⋅τ₁ + J_g⋅τ₂ + J_g⋅τ₃)\n",
      "\n",
      "Denominator:\n",
      "(s⋅τ₁ + 1)⋅(s⋅τ₂ + 1)⋅(s⋅τ₃ + 1)\n"
     ]
    }
   ],
   "source": [
    "print('Numerator:') \n",
    "pprint(fraction(collected_U)[0])\n",
    "print('\\nDenominator:') \n",
    "pprint(fraction(collected_U)[1])"
   ]
  },
  {
   "cell_type": "markdown",
   "metadata": {},
   "source": [
    "Gather coefficients:"
   ]
  },
  {
   "cell_type": "code",
   "execution_count": 6,
   "metadata": {},
   "outputs": [
    {
     "name": "stdout",
     "output_type": "stream",
     "text": [
      "Numerator\n",
      "- - - - - - - - - - - - - - - - - - - - - - - - - - - - - - - - - - - -\n",
      "s0: u0 = \n",
      "J₁ + J₂ + J₃ + J_g\n",
      "\n",
      "s1: u1 =\n",
      "J₁⋅τ₂ + J₁⋅τ₃ + J₂⋅τ₁ + J₂⋅τ₃ + J₃⋅τ₁ + J₃⋅τ₂ + J_g⋅τ₁ + J_g⋅τ₂ + J_g⋅τ₃\n",
      "\n",
      "s2: u2 =\n",
      "J₁⋅τ₂⋅τ₃ + J₂⋅τ₁⋅τ₃ + J₃⋅τ₁⋅τ₂ + J_g⋅τ₁⋅τ₂ + J_g⋅τ₁⋅τ₃ + J_g⋅τ₂⋅τ₃\n",
      "\n",
      "s0: u3 =\n",
      "J_g⋅τ₁⋅τ₂⋅τ₃\n"
     ]
    }
   ],
   "source": [
    "print('Numerator')\n",
    "print('- - - - - - - - - - - - - - - - - - - - - - - - - - - - - - - - - - - -')\n",
    "print('s0: u0 = ') \n",
    "pprint(fraction(collected_U)[0].coeff(s, 0))\n",
    "print('\\ns1: u1 =')\n",
    "pprint(fraction(collected_U)[0].coeff(s, 1))\n",
    "print('\\ns2: u2 =')\n",
    "pprint(fraction(collected_U)[0].coeff(s, 2))\n",
    "print('\\ns0: u3 =')\n",
    "pprint(fraction(collected_U)[0].coeff(s, 3))"
   ]
  },
  {
   "cell_type": "code",
   "execution_count": 7,
   "metadata": {},
   "outputs": [
    {
     "name": "stdout",
     "output_type": "stream",
     "text": [
      "Denominator\n",
      "- - - - - - - - - - - - - - - - - - - - - - - - - - - - - - - - - - - -\n",
      "s0: u0 = \n",
      "1\n",
      "\n",
      "s1: u1 =\n",
      "τ₁ + τ₂ + τ₃\n",
      "\n",
      "s2: u2 =\n",
      "τ₁⋅τ₂ + τ₁⋅τ₃ + τ₂⋅τ₃\n",
      "\n",
      "s0: u3 =\n",
      "τ₁⋅τ₂⋅τ₃\n"
     ]
    }
   ],
   "source": [
    "print('Denominator')\n",
    "print('- - - - - - - - - - - - - - - - - - - - - - - - - - - - - - - - - - - -')\n",
    "print('s0: u0 = ') \n",
    "pprint(expand(fraction(collected_U)[1]).coeff(s, 0))\n",
    "print('\\ns1: u1 =')\n",
    "pprint(expand(fraction(collected_U)[1]).coeff(s, 1))\n",
    "print('\\ns2: u2 =')\n",
    "pprint(expand(fraction(collected_U)[1]).coeff(s, 2))\n",
    "print('\\ns0: u3 =')\n",
    "pprint(expand(fraction(collected_U)[1]).coeff(s, 3))"
   ]
  },
  {
   "cell_type": "markdown",
   "metadata": {},
   "source": [
    "### Find diffential parameters for Retardance"
   ]
  },
  {
   "cell_type": "markdown",
   "metadata": {},
   "source": [
    "Material Transform for Retardance: $$ \\overline Q(s) = \\frac{\\overline q(s)}{\\overline u(s)} $$"
   ]
  },
  {
   "cell_type": "markdown",
   "metadata": {},
   "source": [
    "Find the common denominator and expand each term:"
   ]
  },
  {
   "cell_type": "code",
   "execution_count": 8,
   "metadata": {},
   "outputs": [
    {
     "data": {
      "text/latex": [
       "$\\displaystyle \\frac{G_{1} s^{2} \\tau_{1} \\tau_{2} \\tau_{3} + G_{1} s \\tau_{1} \\tau_{2} + G_{1} s \\tau_{1} \\tau_{3} + G_{1} \\tau_{1} + G_{2} s^{2} \\tau_{1} \\tau_{2} \\tau_{3} + G_{2} s \\tau_{1} \\tau_{2} + G_{2} s \\tau_{2} \\tau_{3} + G_{2} \\tau_{2} + G_{3} s^{2} \\tau_{1} \\tau_{2} \\tau_{3} + G_{3} s \\tau_{1} \\tau_{3} + G_{3} s \\tau_{2} \\tau_{3} + G_{3} \\tau_{3} + G_{e} s^{3} \\tau_{1} \\tau_{2} \\tau_{3} + G_{e} s^{2} \\tau_{1} \\tau_{2} + G_{e} s^{2} \\tau_{1} \\tau_{3} + G_{e} s^{2} \\tau_{2} \\tau_{3} + G_{e} s \\tau_{1} + G_{e} s \\tau_{2} + G_{e} s \\tau_{3} + G_{e}}{\\left(s \\tau_{1} + 1\\right) \\left(s \\tau_{2} + 1\\right) \\left(s \\tau_{3} + 1\\right)}$"
      ],
      "text/plain": [
       "(G_1*s**2*tau_1*tau_2*tau_3 + G_1*s*tau_1*tau_2 + G_1*s*tau_1*tau_3 + G_1*tau_1 + G_2*s**2*tau_1*tau_2*tau_3 + G_2*s*tau_1*tau_2 + G_2*s*tau_2*tau_3 + G_2*tau_2 + G_3*s**2*tau_1*tau_2*tau_3 + G_3*s*tau_1*tau_3 + G_3*s*tau_2*tau_3 + G_3*tau_3 + G_e*s**3*tau_1*tau_2*tau_3 + G_e*s**2*tau_1*tau_2 + G_e*s**2*tau_1*tau_3 + G_e*s**2*tau_2*tau_3 + G_e*s*tau_1 + G_e*s*tau_2 + G_e*s*tau_3 + G_e)/((s*tau_1 + 1)*(s*tau_2 + 1)*(s*tau_3 + 1))"
      ]
     },
     "execution_count": 8,
     "metadata": {},
     "output_type": "execute_result"
    }
   ],
   "source": [
    "factor(Q)"
   ]
  },
  {
   "cell_type": "markdown",
   "metadata": {},
   "source": [
    "Collect terms multiplied by same exponent of s:"
   ]
  },
  {
   "cell_type": "code",
   "execution_count": 9,
   "metadata": {},
   "outputs": [
    {
     "data": {
      "text/latex": [
       "$\\displaystyle \\frac{G_{1} \\tau_{1} + G_{2} \\tau_{2} + G_{3} \\tau_{3} + G_{e} s^{3} \\tau_{1} \\tau_{2} \\tau_{3} + G_{e} + s^{2} \\left(G_{1} \\tau_{1} \\tau_{2} \\tau_{3} + G_{2} \\tau_{1} \\tau_{2} \\tau_{3} + G_{3} \\tau_{1} \\tau_{2} \\tau_{3} + G_{e} \\tau_{1} \\tau_{2} + G_{e} \\tau_{1} \\tau_{3} + G_{e} \\tau_{2} \\tau_{3}\\right) + s \\left(G_{1} \\tau_{1} \\tau_{2} + G_{1} \\tau_{1} \\tau_{3} + G_{2} \\tau_{1} \\tau_{2} + G_{2} \\tau_{2} \\tau_{3} + G_{3} \\tau_{1} \\tau_{3} + G_{3} \\tau_{2} \\tau_{3} + G_{e} \\tau_{1} + G_{e} \\tau_{2} + G_{e} \\tau_{3}\\right)}{\\left(s \\tau_{1} + 1\\right) \\left(s \\tau_{2} + 1\\right) \\left(s \\tau_{3} + 1\\right)}$"
      ],
      "text/plain": [
       "(G_1*tau_1 + G_2*tau_2 + G_3*tau_3 + G_e*s**3*tau_1*tau_2*tau_3 + G_e + s**2*(G_1*tau_1*tau_2*tau_3 + G_2*tau_1*tau_2*tau_3 + G_3*tau_1*tau_2*tau_3 + G_e*tau_1*tau_2 + G_e*tau_1*tau_3 + G_e*tau_2*tau_3) + s*(G_1*tau_1*tau_2 + G_1*tau_1*tau_3 + G_2*tau_1*tau_2 + G_2*tau_2*tau_3 + G_3*tau_1*tau_3 + G_3*tau_2*tau_3 + G_e*tau_1 + G_e*tau_2 + G_e*tau_3))/((s*tau_1 + 1)*(s*tau_2 + 1)*(s*tau_3 + 1))"
      ]
     },
     "execution_count": 9,
     "metadata": {},
     "output_type": "execute_result"
    }
   ],
   "source": [
    "collected_Q = collect(factor(Q), s)\n",
    "collected_Q"
   ]
  },
  {
   "cell_type": "markdown",
   "metadata": {},
   "source": [
    "Separate Numerator and Denominator:"
   ]
  },
  {
   "cell_type": "code",
   "execution_count": 10,
   "metadata": {},
   "outputs": [
    {
     "name": "stdout",
     "output_type": "stream",
     "text": [
      "Numerator:\n",
      "                            3                  2                              \n",
      "G₁⋅τ₁ + G₂⋅τ₂ + G₃⋅τ₃ + Gₑ⋅s ⋅τ₁⋅τ₂⋅τ₃ + Gₑ + s ⋅(G₁⋅τ₁⋅τ₂⋅τ₃ + G₂⋅τ₁⋅τ₂⋅τ₃ + \n",
      "\n",
      "                                                                              \n",
      "G₃⋅τ₁⋅τ₂⋅τ₃ + Gₑ⋅τ₁⋅τ₂ + Gₑ⋅τ₁⋅τ₃ + Gₑ⋅τ₂⋅τ₃) + s⋅(G₁⋅τ₁⋅τ₂ + G₁⋅τ₁⋅τ₃ + G₂⋅τ₁\n",
      "\n",
      "                                                             \n",
      "⋅τ₂ + G₂⋅τ₂⋅τ₃ + G₃⋅τ₁⋅τ₃ + G₃⋅τ₂⋅τ₃ + Gₑ⋅τ₁ + Gₑ⋅τ₂ + Gₑ⋅τ₃)\n",
      "\n",
      "Denominator:\n",
      "(s⋅τ₁ + 1)⋅(s⋅τ₂ + 1)⋅(s⋅τ₃ + 1)\n"
     ]
    }
   ],
   "source": [
    "print('Numerator:') \n",
    "pprint(fraction(collected_Q)[0])\n",
    "print('\\nDenominator:') \n",
    "pprint(fraction(collected_Q)[1])"
   ]
  },
  {
   "cell_type": "markdown",
   "metadata": {},
   "source": [
    "Gather coefficients:"
   ]
  },
  {
   "cell_type": "code",
   "execution_count": 11,
   "metadata": {},
   "outputs": [
    {
     "name": "stdout",
     "output_type": "stream",
     "text": [
      "Numerator\n",
      "- - - - - - - - - - - - - - - - - - - - - - - - - - - - - - - - - - - -\n",
      "s0: u0 = \n",
      "G₁⋅τ₁ + G₂⋅τ₂ + G₃⋅τ₃ + Gₑ\n",
      "\n",
      "s1: u1 =\n",
      "G₁⋅τ₁⋅τ₂ + G₁⋅τ₁⋅τ₃ + G₂⋅τ₁⋅τ₂ + G₂⋅τ₂⋅τ₃ + G₃⋅τ₁⋅τ₃ + G₃⋅τ₂⋅τ₃ + Gₑ⋅τ₁ + Gₑ⋅τ\n",
      "₂ + Gₑ⋅τ₃\n",
      "\n",
      "s2: u2 =\n",
      "G₁⋅τ₁⋅τ₂⋅τ₃ + G₂⋅τ₁⋅τ₂⋅τ₃ + G₃⋅τ₁⋅τ₂⋅τ₃ + Gₑ⋅τ₁⋅τ₂ + Gₑ⋅τ₁⋅τ₃ + Gₑ⋅τ₂⋅τ₃\n",
      "\n",
      "s0: u3 =\n",
      "Gₑ⋅τ₁⋅τ₂⋅τ₃\n"
     ]
    }
   ],
   "source": [
    "print('Numerator')\n",
    "print('- - - - - - - - - - - - - - - - - - - - - - - - - - - - - - - - - - - -')\n",
    "print('s0: u0 = ') \n",
    "pprint(fraction(collected_Q)[0].coeff(s, 0))\n",
    "print('\\ns1: u1 =')\n",
    "pprint(fraction(collected_Q)[0].coeff(s, 1))\n",
    "print('\\ns2: u2 =')\n",
    "pprint(fraction(collected_Q)[0].coeff(s, 2))\n",
    "print('\\ns0: u3 =')\n",
    "pprint(fraction(collected_Q)[0].coeff(s, 3))"
   ]
  },
  {
   "cell_type": "code",
   "execution_count": 12,
   "metadata": {},
   "outputs": [
    {
     "name": "stdout",
     "output_type": "stream",
     "text": [
      "Denominator\n",
      "- - - - - - - - - - - - - - - - - - - - - - - - - - - - - - - - - - - -\n",
      "s0: u0 = \n",
      "1\n",
      "\n",
      "s1: u1 =\n",
      "τ₁ + τ₂ + τ₃\n",
      "\n",
      "s2: u2 =\n",
      "τ₁⋅τ₂ + τ₁⋅τ₃ + τ₂⋅τ₃\n",
      "\n",
      "s0: u3 =\n",
      "τ₁⋅τ₂⋅τ₃\n"
     ]
    }
   ],
   "source": [
    "print('Denominator')\n",
    "print('- - - - - - - - - - - - - - - - - - - - - - - - - - - - - - - - - - - -')\n",
    "print('s0: u0 = ') \n",
    "pprint(expand(fraction(collected_Q)[1]).coeff(s, 0))\n",
    "print('\\ns1: u1 =')\n",
    "pprint(expand(fraction(collected_Q)[1]).coeff(s, 1))\n",
    "print('\\ns2: u2 =')\n",
    "pprint(expand(fraction(collected_Q)[1]).coeff(s, 2))\n",
    "print('\\ns0: u3 =')\n",
    "pprint(expand(fraction(collected_Q)[1]).coeff(s, 3))"
   ]
  }
 ],
 "metadata": {
  "kernelspec": {
   "display_name": "Python 3",
   "language": "python",
   "name": "python3"
  },
  "language_info": {
   "codemirror_mode": {
    "name": "ipython",
    "version": 3
   },
   "file_extension": ".py",
   "mimetype": "text/x-python",
   "name": "python",
   "nbconvert_exporter": "python",
   "pygments_lexer": "ipython3",
   "version": "3.7.6"
  }
 },
 "nbformat": 4,
 "nbformat_minor": 4
}
